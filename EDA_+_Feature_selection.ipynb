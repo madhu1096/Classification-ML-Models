{
  "nbformat": 4,
  "nbformat_minor": 0,
  "metadata": {
    "colab": {
      "name": "EDA + Feature selection.ipynb",
      "provenance": [],
      "collapsed_sections": [
        "gI2VkRQKe3yH"
      ],
      "toc_visible": true,
      "mount_file_id": "1cbfPVTHV-Za93heiO7Lh_apazzpW-OFt",
      "authorship_tag": "ABX9TyNS2Q+cXFnqB3bms9Q4s+q+",
      "include_colab_link": true
    },
    "kernelspec": {
      "name": "python3",
      "display_name": "Python 3"
    }
  },
  "cells": [
    {
      "cell_type": "markdown",
      "metadata": {
        "id": "view-in-github",
        "colab_type": "text"
      },
      "source": [
        "<a href=\"https://colab.research.google.com/github/madhu1096/Classification-ML-Models/blob/master/EDA_%2B_Feature_selection.ipynb\" target=\"_parent\"><img src=\"https://colab.research.google.com/assets/colab-badge.svg\" alt=\"Open In Colab\"/></a>"
      ]
    },
    {
      "cell_type": "markdown",
      "metadata": {
        "id": "ELajv9OfezxI",
        "colab_type": "text"
      },
      "source": [
        "# Data preprocessing"
      ]
    },
    {
      "cell_type": "code",
      "metadata": {
        "id": "aFCCbh34n2Tf",
        "colab_type": "code",
        "colab": {}
      },
      "source": [
        "import pandas as pd\n",
        "import numpy as np"
      ],
      "execution_count": 6,
      "outputs": []
    },
    {
      "cell_type": "code",
      "metadata": {
        "id": "xpG-lhNPp8yX",
        "colab_type": "code",
        "colab": {}
      },
      "source": [
        "dataset = pd.read_csv('/content/drive/My Drive/data1/train.csv')"
      ],
      "execution_count": 7,
      "outputs": []
    },
    {
      "cell_type": "code",
      "metadata": {
        "id": "VjAX7BSKqDlm",
        "colab_type": "code",
        "colab": {}
      },
      "source": [
        "dataset.head(2)"
      ],
      "execution_count": null,
      "outputs": []
    },
    {
      "cell_type": "code",
      "metadata": {
        "id": "DUrCdhgvqSDH",
        "colab_type": "code",
        "colab": {
          "base_uri": "https://localhost:8080/",
          "height": 139
        },
        "outputId": "c921cecd-905c-453b-81c0-058874ebc55f"
      },
      "source": [
        "dataset.columns"
      ],
      "execution_count": 8,
      "outputs": [
        {
          "output_type": "execute_result",
          "data": {
            "text/plain": [
              "Index(['case_id', 'Hospital_code', 'Hospital_type_code', 'City_Code_Hospital',\n",
              "       'Hospital_region_code', 'Available Extra Rooms in Hospital',\n",
              "       'Department', 'Ward_Type', 'Ward_Facility_Code', 'Bed Grade',\n",
              "       'patientid', 'City_Code_Patient', 'Type of Admission',\n",
              "       'Severity of Illness', 'Visitors with Patient', 'Age',\n",
              "       'Admission_Deposit', 'Stay'],\n",
              "      dtype='object')"
            ]
          },
          "metadata": {
            "tags": []
          },
          "execution_count": 8
        }
      ]
    },
    {
      "cell_type": "code",
      "metadata": {
        "id": "gLbApjj2reZ8",
        "colab_type": "code",
        "colab": {}
      },
      "source": [
        "temp_train = pd.DataFrame(dataset['Hospital_type_code'])\n",
        "temp_train['Hospital_region_code'] = dataset['Hospital_region_code']\n",
        "temp_train['Department'] = dataset['Department']\n",
        "temp_train['Ward_Type'] = dataset['Ward_Type']\n",
        "temp_train['Ward_Facility_Code'] = dataset['Ward_Facility_Code']\n",
        "temp_train['Type of Admission'] = dataset['Type of Admission']\n",
        "temp_train['Severity of Illness'] = dataset['Severity of Illness']\n",
        "temp_train['Age'] = dataset['Age']\n",
        "temp_train['Admission_Deposit'] = dataset['Admission_Deposit']\n",
        "temp_train['Stay'] = dataset['Stay']"
      ],
      "execution_count": 23,
      "outputs": []
    },
    {
      "cell_type": "code",
      "metadata": {
        "id": "eiPrZFJJt3fR",
        "colab_type": "code",
        "colab": {}
      },
      "source": [
        "temp_train.head(3)"
      ],
      "execution_count": null,
      "outputs": []
    },
    {
      "cell_type": "code",
      "metadata": {
        "id": "yXhZr_AMy3ff",
        "colab_type": "code",
        "colab": {}
      },
      "source": [
        "temp_train['Stay'].value_counts()"
      ],
      "execution_count": null,
      "outputs": []
    },
    {
      "cell_type": "code",
      "metadata": {
        "id": "-vAusgu-NGhU",
        "colab_type": "code",
        "colab": {
          "base_uri": "https://localhost:8080/",
          "height": 87
        },
        "outputId": "9f4077dd-a1c6-42d8-87ae-b751ea1300d8"
      },
      "source": [
        "temp_train.columns"
      ],
      "execution_count": 18,
      "outputs": [
        {
          "output_type": "execute_result",
          "data": {
            "text/plain": [
              "Index(['Hospital_type_code', 'Hospital_region_code', 'Department', 'Ward_Type',\n",
              "       'Ward_Facility_Code', 'Type of Admission', 'Severity of Illness', 'Age',\n",
              "       'Admission_Deposit', 'Stay'],\n",
              "      dtype='object')"
            ]
          },
          "metadata": {
            "tags": []
          },
          "execution_count": 18
        }
      ]
    },
    {
      "cell_type": "code",
      "metadata": {
        "id": "hJC_6kenulKo",
        "colab_type": "code",
        "colab": {}
      },
      "source": [
        "X  = temp_train.iloc[:, :-2].values\n",
        "y  = temp_train.iloc[:, -1].values"
      ],
      "execution_count": 24,
      "outputs": []
    },
    {
      "cell_type": "code",
      "metadata": {
        "id": "73BOGRe2u3OX",
        "colab_type": "code",
        "colab": {}
      },
      "source": [
        "from sklearn.compose import ColumnTransformer\n",
        "from sklearn.preprocessing import OneHotEncoder,LabelEncoder\n",
        "ct = ColumnTransformer(transformers=[('encoder1', OneHotEncoder(), [0,1,2,3,4,5,6,7])], remainder='passthrough')\n",
        "X  = ct.fit_transform(X)\n",
        "y=LabelEncoder().fit_transform(y)"
      ],
      "execution_count": 26,
      "outputs": []
    },
    {
      "cell_type": "markdown",
      "metadata": {
        "id": "gI2VkRQKe3yH",
        "colab_type": "text"
      },
      "source": [
        "# Visualization\n"
      ]
    },
    {
      "cell_type": "code",
      "metadata": {
        "id": "iAh0fkKIe951",
        "colab_type": "code",
        "colab": {}
      },
      "source": [
        "import matplotlib.pyplot as plt\n",
        "import numpy as np\n",
        "%matplotlib inline"
      ],
      "execution_count": null,
      "outputs": []
    },
    {
      "cell_type": "code",
      "metadata": {
        "id": "pESHcijdfLD0",
        "colab_type": "code",
        "colab": {}
      },
      "source": [
        "x=np.arange(0,10)\n",
        "y=np.arange(11,21)"
      ],
      "execution_count": null,
      "outputs": []
    },
    {
      "cell_type": "code",
      "metadata": {
        "id": "EM5-AP5mfp0M",
        "colab_type": "code",
        "colab": {}
      },
      "source": [
        "plt.scatter(x,y,c='g')\n",
        "plt.xlabel('X axis')\n",
        "plt.ylabel('Y axis')\n",
        "plt.title('Graph in 2D')"
      ],
      "execution_count": null,
      "outputs": []
    },
    {
      "cell_type": "code",
      "metadata": {
        "id": "5OaWvI-Ggcp3",
        "colab_type": "code",
        "colab": {}
      },
      "source": [
        "plt.subplot(2,2,1)\n",
        "plt.plot(x,y,'r--')\n",
        "plt.subplot(2,2,2)\n",
        "plt.plot(x,y,'g*--')\n",
        "plt.subplot(2,2,3)\n",
        "plt.plot(x,y,'bo')\n",
        "plt.subplot(2,2,4)\n",
        "plt.plot(x,y,'go')"
      ],
      "execution_count": null,
      "outputs": []
    },
    {
      "cell_type": "code",
      "metadata": {
        "id": "oe9gL01QhLbK",
        "colab_type": "code",
        "colab": {
          "base_uri": "https://localhost:8080/",
          "height": 295
        },
        "outputId": "397348d0-66df-4ea0-9078-1a1b6ad2f054"
      },
      "source": [
        "x = [2,8,10] \n",
        "y = [11,16,9]  \n",
        "\n",
        "x2 = [3,9,11] \n",
        "y2 = [6,15,7] \n",
        "plt.bar(x, y) \n",
        "plt.bar(x2, y2, color = 'g') \n",
        "plt.title('Bar graph') \n",
        "plt.ylabel('Y axis') \n",
        "plt.xlabel('X axis')  \n",
        "\n",
        "plt.show()"
      ],
      "execution_count": null,
      "outputs": [
        {
          "output_type": "display_data",
          "data": {
            "image/png": "[encoded data removed]",
            "text/plain": [
              "<Figure size 432x288 with 1 Axes>"
            ]
          },
          "metadata": {
            "tags": [],
            "needs_background": "light"
          }
        }
      ]
    },
    {
      "cell_type": "code",
      "metadata": {
        "id": "t-qHwkeWicBT",
        "colab_type": "code",
        "colab": {}
      },
      "source": [
        "import seaborn as sns"
      ],
      "execution_count": null,
      "outputs": []
    },
    {
      "cell_type": "code",
      "metadata": {
        "id": "1HIc5225smlY",
        "colab_type": "code",
        "colab": {}
      },
      "source": [
        "df=sns.load_dataset(\"tips\")"
      ],
      "execution_count": null,
      "outputs": []
    },
    {
      "cell_type": "code",
      "metadata": {
        "id": "rh2EfmZosqP6",
        "colab_type": "code",
        "colab": {}
      },
      "source": [
        "df.head(3)"
      ],
      "execution_count": null,
      "outputs": []
    },
    {
      "cell_type": "code",
      "metadata": {
        "id": "WCESBX0PtC-I",
        "colab_type": "code",
        "colab": {}
      },
      "source": [
        "df.corr()"
      ],
      "execution_count": null,
      "outputs": []
    },
    {
      "cell_type": "code",
      "metadata": {
        "id": "L2vZOZ53t4jq",
        "colab_type": "code",
        "colab": {}
      },
      "source": [
        "sns.heatmap(df.corr())"
      ],
      "execution_count": null,
      "outputs": []
    },
    {
      "cell_type": "code",
      "metadata": {
        "id": "ofFKrYSLuEnc",
        "colab_type": "code",
        "colab": {}
      },
      "source": [
        "sns.jointplot(x=df['tip'],y=df['total_bill'],kind='hex')"
      ],
      "execution_count": null,
      "outputs": []
    },
    {
      "cell_type": "code",
      "metadata": {
        "id": "Ft6BTldzvCN3",
        "colab_type": "code",
        "colab": {}
      },
      "source": [
        "sns.jointplot(x='tip',y='total_bill',data=df,kind='reg')"
      ],
      "execution_count": null,
      "outputs": []
    },
    {
      "cell_type": "code",
      "metadata": {
        "id": "NjmWnZGyvwHh",
        "colab_type": "code",
        "colab": {}
      },
      "source": [
        "sns.pairplot(df,hue='sex')"
      ],
      "execution_count": null,
      "outputs": []
    },
    {
      "cell_type": "code",
      "metadata": {
        "id": "7NDQukGOv7e3",
        "colab_type": "code",
        "colab": {}
      },
      "source": [
        "sns.distplot(df['tip'])"
      ],
      "execution_count": null,
      "outputs": []
    },
    {
      "cell_type": "code",
      "metadata": {
        "id": "XF_OYp34wON4",
        "colab_type": "code",
        "colab": {}
      },
      "source": [
        ""
      ],
      "execution_count": null,
      "outputs": []
    },
    {
      "cell_type": "markdown",
      "metadata": {
        "id": "Et_se8a2Gknr",
        "colab_type": "text"
      },
      "source": [
        "#EDA"
      ]
    },
    {
      "cell_type": "markdown",
      "metadata": {
        "id": "afY5R0VpMHTd",
        "colab_type": "text"
      },
      "source": [
        "##Using sweetviz"
      ]
    },
    {
      "cell_type": "code",
      "metadata": {
        "id": "hAGRCUnqGnbq",
        "colab_type": "code",
        "colab": {}
      },
      "source": [
        "pip install sweetviz"
      ],
      "execution_count": null,
      "outputs": []
    },
    {
      "cell_type": "code",
      "metadata": {
        "id": "5hP8JW5-G5NA",
        "colab_type": "code",
        "colab": {}
      },
      "source": [
        "import pandas as  pd\n",
        "df = pd.read_csv('/content/drive/My Drive/loan data/train_ctrUa4K.csv')"
      ],
      "execution_count": null,
      "outputs": []
    },
    {
      "cell_type": "code",
      "metadata": {
        "id": "p_LJchHzHGXy",
        "colab_type": "code",
        "colab": {}
      },
      "source": [
        "# importing sweetviz\n",
        "import sweetviz as sv\n",
        "#analyzing the dataset\n",
        "advert_report = sv.analyze(df)\n",
        "#display the report\n",
        "advert_report.show_html('Advertising.html')"
      ],
      "execution_count": null,
      "outputs": []
    },
    {
      "cell_type": "code",
      "metadata": {
        "id": "eItMzhVVHwOC",
        "colab_type": "code",
        "colab": {}
      },
      "source": [
        "df1 = sv.compare(df[10000:], df[:])\n",
        "df1.show_html('Compare.html')"
      ],
      "execution_count": null,
      "outputs": []
    },
    {
      "cell_type": "markdown",
      "metadata": {
        "id": "1jhEJtVbMLl6",
        "colab_type": "text"
      },
      "source": [
        "##Using Pandas - Profiling"
      ]
    },
    {
      "cell_type": "code",
      "metadata": {
        "id": "IFzr27kjNrKs",
        "colab_type": "code",
        "colab": {}
      },
      "source": [
        "!pip install -U pandas-profiling"
      ],
      "execution_count": null,
      "outputs": []
    },
    {
      "cell_type": "code",
      "metadata": {
        "id": "8kYT41K-LW3A",
        "colab_type": "code",
        "colab": {}
      },
      "source": [
        "from pandas_profiling import ProfileReport"
      ],
      "execution_count": null,
      "outputs": []
    },
    {
      "cell_type": "code",
      "metadata": {
        "id": "WrOAXiBZMsux",
        "colab_type": "code",
        "colab": {}
      },
      "source": [
        "import pandas as pd\n",
        "from sklearn.datasets import load_diabetes\n",
        "diab_data=load_diabetes()\n",
        "df=pd.DataFrame(data=diab_data.data,columns=diab_data.feature_names)"
      ],
      "execution_count": null,
      "outputs": []
    },
    {
      "cell_type": "code",
      "metadata": {
        "id": "5DFxCnYcLag5",
        "colab_type": "code",
        "colab": {}
      },
      "source": [
        "profile = ProfileReport(df)"
      ],
      "execution_count": null,
      "outputs": []
    },
    {
      "cell_type": "code",
      "metadata": {
        "id": "DbdkxTHuSeEk",
        "colab_type": "code",
        "colab": {}
      },
      "source": [
        "profile.to_widgets()"
      ],
      "execution_count": null,
      "outputs": []
    },
    {
      "cell_type": "code",
      "metadata": {
        "id": "cMBcGxVWOaKQ",
        "colab_type": "code",
        "colab": {}
      },
      "source": [
        "profile.to_file(\"output.html\")"
      ],
      "execution_count": null,
      "outputs": []
    },
    {
      "cell_type": "markdown",
      "metadata": {
        "id": "Im2XJkjYMRZT",
        "colab_type": "text"
      },
      "source": [
        "#Feature selection"
      ]
    },
    {
      "cell_type": "code",
      "metadata": {
        "id": "vAzbg2Y2MTyj",
        "colab_type": "code",
        "colab": {}
      },
      "source": [
        "from sklearn.feature_selection import SelectKBest\n",
        "from sklearn.feature_selection import chi2"
      ],
      "execution_count": null,
      "outputs": []
    },
    {
      "cell_type": "code",
      "metadata": {
        "id": "Rf4oIsZvMjq7",
        "colab_type": "code",
        "colab": {}
      },
      "source": [
        "bestfeatures = SelectKBest(score_func=chi2, k=10)\n",
        "fit = bestfeatures.fit(X,y)"
      ],
      "execution_count": 27,
      "outputs": []
    },
    {
      "cell_type": "code",
      "metadata": {
        "id": "pNnvFlaaOCjK",
        "colab_type": "code",
        "colab": {}
      },
      "source": [
        "np.shape(X)"
      ],
      "execution_count": null,
      "outputs": []
    },
    {
      "cell_type": "code",
      "metadata": {
        "id": "AsMCytwYMoF_",
        "colab_type": "code",
        "colab": {}
      },
      "source": [
        "dfscores = pd.DataFrame(fit.scores_)"
      ],
      "execution_count": 31,
      "outputs": []
    },
    {
      "cell_type": "code",
      "metadata": {
        "id": "_K_4mF7OOTg9",
        "colab_type": "code",
        "colab": {}
      },
      "source": [
        "list1=[i for i in range(43)]"
      ],
      "execution_count": 34,
      "outputs": []
    },
    {
      "cell_type": "code",
      "metadata": {
        "id": "myt_mSP6OdVW",
        "colab_type": "code",
        "colab": {}
      },
      "source": [
        "dfcolumns = pd.DataFrame(list1)\n",
        "featureScores = pd.concat([dfcolumns,dfscores],axis=1)\n",
        "featureScores.columns = ['Specs','Score']"
      ],
      "execution_count": 36,
      "outputs": []
    },
    {
      "cell_type": "code",
      "metadata": {
        "id": "NXrze6TKOlUF",
        "colab_type": "code",
        "colab": {}
      },
      "source": [
        "featureScores"
      ],
      "execution_count": null,
      "outputs": []
    },
    {
      "cell_type": "code",
      "metadata": {
        "id": "YSrqv6nZOyt6",
        "colab_type": "code",
        "colab": {}
      },
      "source": [
        "print(featureScores.nlargest(30,'Score'))"
      ],
      "execution_count": null,
      "outputs": []
    }
  ]
}